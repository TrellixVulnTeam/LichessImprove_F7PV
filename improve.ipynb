{
 "cells": [
  {
   "cell_type": "code",
   "execution_count": 3,
   "metadata": {
    "collapsed": true
   },
   "outputs": [],
   "source": [
    "%matplotlib inline\n",
    "import matplotlib.pyplot as plt\n",
    "import numpy as np"
   ]
  },
  {
   "cell_type": "code",
   "execution_count": null,
   "outputs": [],
   "source": [
    "white_score, black_score, white_mates, black_mates = chessapp.main()\n",
    "fig = plt.figure(figsize=(8, 2.5), facecolor=\"#f1f1f1\")\n",
    "left, bottom, width, height = 0.1, 0.1, 0.8, 0.8\n",
    "ax = fig.add_axes((left, bottom, width, height), facecolor=\"#e1e1e1\")\n",
    "x = np.arange(len(white_score))\n",
    "ax.plot(x, white_score, marker='o',lw=0,  markerfacecolor='white', markeredgewidth=0)\n",
    "x = np.arange(len(black_score))\n",
    "ax.plot(x, black_score, marker='o',lw=0, markerfacecolor='black', markeredgewidth=0);"
   ],
   "metadata": {
    "collapsed": false,
    "pycharm": {
     "name": "#%%\n"
    }
   }
  },
  {
   "cell_type": "code",
   "execution_count": 5,
   "outputs": [],
   "source": [
    "centipawns_fig = plt.figure(facecolor=\"#f1f1f1\")\n",
    "left, bottom, width, height = 0.1, 0.1, 0.8,0.8\n",
    "ax_cp = centipawns_fig.add_axes((left, bottom, width, height), facecolor=\"lightgray\")\n",
    "centipawns = np.linspace(-1000,1000, 101)\n",
    "ax_cp.set_xticks([n for n in range(-1000, 1001, 200)])\n",
    "ax_cp.set_yticks([n for n in range(0, 101, 20)])\n",
    "ax_cp.spines['bottom'].set_position(('data', 0))\n",
    "ax_cp.spines['left'].set_position(('data',0))\n",
    "wining_chances = 50 + 50 * (2/(1 + np.exp(-0.004 * centipawns))-1)\n",
    "ax_cp.plot(centipawns, wining_chances, lw =1)\n",
    "ax_cp.grid(linestyle=':', linewidth=0.5, which=\"both\")\n",
    "plt.savefig('centipawns_fig.png')\n",
    "plt.close(centipawns_fig)"
   ],
   "metadata": {
    "collapsed": false,
    "pycharm": {
     "name": "#%%\n"
    }
   }
  }
 ],
 "metadata": {
  "kernelspec": {
   "display_name": "Python 3",
   "language": "python",
   "name": "python3"
  },
  "language_info": {
   "codemirror_mode": {
    "name": "ipython",
    "version": 2
   },
   "file_extension": ".py",
   "mimetype": "text/x-python",
   "name": "python",
   "nbconvert_exporter": "python",
   "pygments_lexer": "ipython2",
   "version": "2.7.6"
  }
 },
 "nbformat": 4,
 "nbformat_minor": 0
}