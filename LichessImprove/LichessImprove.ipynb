{
 "cells": [
  {
   "cell_type": "code",
   "execution_count": 13,
   "metadata": {
    "collapsed": true
   },
   "outputs": [],
   "source": [
    "import os\n",
    "import lichess.api as lichess\n",
    "from lichess.format import PGN\n",
    "import chess.pgn\n",
    "import chess.engine as engine\n",
    "from io import StringIO\n",
    "import numpy as np\n",
    "import pandas as pd\n",
    "p = os.path.join(os.path.normpath(os.getcwd() + os.sep + os.pardir), os.path.join('stockfish_13_win_x64','stockfish_13_win_x64.exe'))"
   ]
  },
  {
   "cell_type": "code",
   "execution_count": 14,
   "outputs": [],
   "source": [
    "def threshold(is_white) -> float:\n",
    "    if is_white:\n",
    "        u = int(getattr(game, 'headers')['WhiteElo'])\n",
    "    else:\n",
    "        u = int(getattr(game, 'headers')['BlackElo'])\n",
    "    return 9 - (9/3200) * u\n"
   ],
   "metadata": {
    "collapsed": false,
    "pycharm": {
     "name": "#%%\n"
    }
   }
  },
  {
   "cell_type": "code",
   "execution_count": 15,
   "outputs": [
    {
     "name": "stdout",
     "output_type": "stream",
     "text": [
      "1\n",
      "2\n",
      "3\n",
      "4\n",
      "5\n",
      "6\n",
      "7\n",
      "8\n",
      "9\n",
      "10\n",
      "11\n",
      "12\n",
      "13\n",
      "14\n",
      "15\n",
      "16\n",
      "17\n",
      "18\n",
      "19\n",
      "20\n",
      "21\n",
      "22\n",
      "23\n",
      "24\n",
      "25\n",
      "26\n",
      "27\n",
      "28\n",
      "29\n",
      "30\n",
      "31\n",
      "32\n",
      "33\n",
      "34\n",
      "35\n",
      "36\n",
      "37\n",
      "38\n",
      "39\n",
      "1\n",
      "2\n",
      "3\n",
      "4\n",
      "5\n",
      "6\n",
      "7\n",
      "8\n",
      "9\n",
      "10\n",
      "11\n",
      "12\n",
      "13\n",
      "14\n",
      "15\n",
      "16\n",
      "17\n",
      "18\n",
      "19\n",
      "20\n",
      "21\n",
      "22\n"
     ]
    }
   ],
   "source": [
    "name = 'lzzu'\n",
    "user_games = lichess.user_games(name, max=2, format=PGN)\n",
    "\n",
    "with engine.SimpleEngine.popen_uci(p) as stockfish:\n",
    "\n",
    "    data = pd.DataFrame(columns=[x for x in range(1, 51)])\n",
    "    for i, user_game in enumerate(user_games):\n",
    "        game = chess.pgn.read_game(StringIO(user_game))\n",
    "        pawn_user_games = []\n",
    "\n",
    "        node = game.game()\n",
    "\n",
    "        if game.headers['Black'] == name:\n",
    "            node = node.next()\n",
    "        move = 0\n",
    "        while not node.is_end() and move < 50:\n",
    "            board = node.board()\n",
    "            score = 0\n",
    "            pawn = stockfish.analyse(board, engine.Limit(time=0.1))['score']\n",
    "            if pawn.is_mate():\n",
    "                if pawn.turn:\n",
    "                    pawn_user_games.append(1000)\n",
    "                else:\n",
    "                    pawn_user_games.append(-1000)\n",
    "                break\n",
    "            else:\n",
    "                if pawn.relative.cp > 500:\n",
    "                    pawn_user_games.append(500)\n",
    "                    break\n",
    "                elif pawn.relative.cp < -500:\n",
    "                    pawn_user_games.append(-500)\n",
    "                    break\n",
    "                else:\n",
    "                    pawn_user_games.append(pawn.relative.cp)\n",
    "            node = node.next()\n",
    "            if node:\n",
    "                node = node.next()\n",
    "            move += 1\n",
    "            print(move)\n",
    "\n",
    "        array = np.zeros(50)\n",
    "        array[:len(pawn_user_games)] = pawn_user_games\n",
    "        data.loc[i] = np.array(array)"
   ],
   "metadata": {
    "collapsed": false,
    "pycharm": {
     "name": "#%%\n"
    }
   }
  }
 ],
 "metadata": {
  "kernelspec": {
   "display_name": "Python 3",
   "language": "python",
   "name": "python3"
  },
  "language_info": {
   "codemirror_mode": {
    "name": "ipython",
    "version": 2
   },
   "file_extension": ".py",
   "mimetype": "text/x-python",
   "name": "python",
   "nbconvert_exporter": "python",
   "pygments_lexer": "ipython2",
   "version": "2.7.6"
  }
 },
 "nbformat": 4,
 "nbformat_minor": 0
}