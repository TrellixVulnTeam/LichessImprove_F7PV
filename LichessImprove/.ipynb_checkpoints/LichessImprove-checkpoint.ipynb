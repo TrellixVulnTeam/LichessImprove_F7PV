{
 "cells": [
  {
   "cell_type": "code",
   "execution_count": 2,
   "metadata": {},
   "outputs": [],
   "source": [
    "import os\n",
    "import lichess.api as lichess\n",
    "from lichess.format import PGN\n",
    "import chess.pgn\n",
    "import chess.engine as engine\n",
    "from io import StringIO\n",
    "import numpy as np\n",
    "import pandas as pd\n",
    "%matplotlib inline\n",
    "import matplotlib as mpl\n",
    "import matplotlib.pyplot as plt\n",
    "from mpl_toolkits.mplot3d.axes3d import Axes3D\n",
    "from IPython.display import clear_output\n",
    "p = os.path.join(os.path.normpath(os.getcwd() + os.sep + os.pardir), os.path.join('stockfish_13_win_x64',os.path.join('stockfish_13_win_x64','stockfish_13_win_x64.exe')))"
   ]
  },
  {
   "cell_type": "code",
   "execution_count": 3,
   "metadata": {},
   "outputs": [
    {
     "name": "stdout",
     "output_type": "stream",
     "text": [
      "user lichess name: lzzu\n"
     ]
    }
   ],
   "source": [
    "while True:\n",
    "    try:\n",
    "        name = input(\"user lichess name: \")\n",
    "        user_games = lichess.user_games(name, max=10, format=PGN)\n",
    "    except:\n",
    "        name = print(\"invalide user_name lichess, try again: \")\n",
    "    else:\n",
    "        break"
   ]
  },
  {
   "cell_type": "code",
   "execution_count": 2,
   "metadata": {
    "pycharm": {
     "name": "#%%\n"
    }
   },
   "outputs": [],
   "source": [
    "def threshold(is_white) -> float:\n",
    "    if is_white:\n",
    "        u = int(getattr(game, 'headers')['WhiteElo'])\n",
    "    else:\n",
    "        u = int(getattr(game, 'headers')['BlackElo'])\n",
    "    return 9 - (9/3200) * u"
   ]
  },
  {
   "cell_type": "code",
   "execution_count": 4,
   "metadata": {
    "pycharm": {
     "name": "#%%\n"
    }
   },
   "outputs": [
    {
     "name": "stdout",
     "output_type": "stream",
     "text": [
      "||||||||||"
     ]
    }
   ],
   "source": [
    "with engine.SimpleEngine.popen_uci(p) as stockfish:\n",
    "\n",
    "    data = pd.DataFrame(columns=[x for x in range(1, 51)])\n",
    "    for i, user_game in enumerate(user_games):\n",
    "        game = chess.pgn.read_game(StringIO(user_game))\n",
    "        pawn_user_games = []\n",
    "\n",
    "        node = game.game()\n",
    "\n",
    "        if game.headers['Black'] == name:\n",
    "            node = node.next()\n",
    "        move = 0\n",
    "        count = 0\n",
    "        while not node.is_end() and move < 50:\n",
    "            count += 1\n",
    "            board = node.board()\n",
    "            score = 0\n",
    "            pawn = stockfish.analyse(board, engine.Limit(time=0.1))['score']\n",
    "            if pawn.is_mate():\n",
    "                if pawn.turn:\n",
    "                    pawn_user_games.append(1000)\n",
    "                else:\n",
    "                    pawn_user_games.append(-1000)\n",
    "                break\n",
    "            else:\n",
    "                if pawn.relative.cp > 500:\n",
    "                    pawn_user_games.append(500)\n",
    "                    break\n",
    "                elif pawn.relative.cp < -500:\n",
    "                    pawn_user_games.append(-500)\n",
    "                    break\n",
    "                else:\n",
    "                    pawn_user_games.append(pawn.relative.cp)\n",
    "            node = node.next()\n",
    "            if not node.is_end():\n",
    "                node = node.next()\n",
    "            move += 1\n",
    "            \n",
    "\n",
    "        array = np.zeros(50)\n",
    "        array[:len(pawn_user_games)] = pawn_user_games\n",
    "        data.loc[i] = np.array(array)\n",
    "        print('|', end=\"\")"
   ]
  },
  {
   "cell_type": "code",
   "execution_count": 5,
   "metadata": {},
   "outputs": [
    {
     "data": {
      "text/plain": [
       "<matplotlib.lines.Line2D at 0x1c184580f88>"
      ]
     },
     "execution_count": 5,
     "metadata": {},
     "output_type": "execute_result"
    },
    {
     "data": {
      "image/png": "[encoded data removed]",
      "text/plain": [
       "<Figure size 1152x360 with 1 Axes>"
      ]
     },
     "metadata": {
      "needs_background": "light"
     },
     "output_type": "display_data"
    }
   ],
   "source": [
    "fig, ax = plt.subplots(figsize=(16, 5))\n",
    "x = np.arange(0,50)\n",
    "y = data.mean()/100\n",
    "ax.plot(x, y, color = 'black', markeredgewidth = 0, markerfacecolor = 'blue', marker= 'o');\n",
    "ax.axhline(0);"
   ]
  }
 ],
 "metadata": {
  "kernelspec": {
   "display_name": "Python 3",
   "language": "python",
   "name": "python3"
  },
  "language_info": {
   "codemirror_mode": {
    "name": "ipython",
    "version": 3
   },
   "file_extension": ".py",
   "mimetype": "text/x-python",
   "name": "python",
   "nbconvert_exporter": "python",
   "pygments_lexer": "ipython3",
   "version": "3.7.4"
  }
 },
 "nbformat": 4,
 "nbformat_minor": 1
}
